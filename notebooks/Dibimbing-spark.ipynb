{
 "cells": [
  {
   "cell_type": "code",
   "execution_count": 306,
   "id": "a867864e-ad0e-4175-9ba7-00028eba48a5",
   "metadata": {
    "tags": []
   },
   "outputs": [],
   "source": [
    "import pyspark\n",
    "import os\n",
    "import json\n",
    "import argparse\n",
    "\n",
    "from dotenv import load_dotenv\n",
    "from pathlib import Path\n",
    "from pyspark.sql.types import StructType\n",
    "from pyspark.sql.functions import to_timestamp,col,when,count,isnan,month\n",
    "import pyspark.sql.functions as F"
   ]
  },
  {
   "cell_type": "markdown",
   "id": "efc4e293-7230-4d7c-bc4f-f8ba5d4e32e8",
   "metadata": {},
   "source": [
    "## Initialization"
   ]
  },
  {
   "cell_type": "code",
   "execution_count": 39,
   "id": "a8ac2902-1ba2-4f59-b3db-da15788af820",
   "metadata": {
    "tags": []
   },
   "outputs": [
    {
     "data": {
      "text/plain": [
       "True"
      ]
     },
     "execution_count": 39,
     "metadata": {},
     "output_type": "execute_result"
    }
   ],
   "source": [
    "dotenv_path = Path('/resources/.env')\n",
    "load_dotenv(dotenv_path=dotenv_path)"
   ]
  },
  {
   "cell_type": "code",
   "execution_count": 40,
   "id": "0ba0f442-5349-4f76-87e6-7147a1963dc7",
   "metadata": {
    "tags": []
   },
   "outputs": [],
   "source": [
    "postgres_host = os.getenv('POSTGRES_CONTAINER_NAME')\n",
    "postgres_port = os.getenv('POSTGRES_PORT')\n",
    "postgres_dw_db = os.getenv('POSTGRES_DW_DB')\n",
    "postgres_user = os.getenv('POSTGRES_USER')\n",
    "postgres_password = os.getenv('POSTGRES_PASSWORD')"
   ]
  },
  {
   "cell_type": "code",
   "execution_count": 41,
   "id": "025b23a6-c84c-48d4-87e4-94d4a9953d1b",
   "metadata": {
    "tags": []
   },
   "outputs": [],
   "source": [
    "sparkcontext = pyspark.SparkContext.getOrCreate(conf=(\n",
    "        pyspark\n",
    "        .SparkConf()\n",
    "        .setAppName('Dibimbing')\n",
    "        .setMaster('local[4]')\n",
    "        .set(\"spark.jars\", \"/opt/postgresql-42.2.18.jar\")\n",
    "    ))\n",
    "sparkcontext.setLogLevel(\"WARN\")\n",
    "\n",
    "spark = pyspark.sql.SparkSession(sparkcontext.getOrCreate())"
   ]
  },
  {
   "cell_type": "code",
   "execution_count": 35,
   "id": "5bc1fd6b-ed91-4843-af3a-14e7c6114b6a",
   "metadata": {
    "tags": []
   },
   "outputs": [
    {
     "data": {
      "text/html": [
       "\n",
       "            <div>\n",
       "                <p><b>SparkSession - in-memory</b></p>\n",
       "                \n",
       "        <div>\n",
       "            <p><b>SparkContext</b></p>\n",
       "\n",
       "            <p><a href=\"http://dibimbing-jupyter:4040\">Spark UI</a></p>\n",
       "\n",
       "            <dl>\n",
       "              <dt>Version</dt>\n",
       "                <dd><code>v3.3.2</code></dd>\n",
       "              <dt>Master</dt>\n",
       "                <dd><code>local[4]</code></dd>\n",
       "              <dt>AppName</dt>\n",
       "                <dd><code>Dibimbing</code></dd>\n",
       "            </dl>\n",
       "        </div>\n",
       "        \n",
       "            </div>\n",
       "        "
      ],
      "text/plain": [
       "<pyspark.sql.session.SparkSession at 0x7f9d81d35f30>"
      ]
     },
     "execution_count": 35,
     "metadata": {},
     "output_type": "execute_result"
    }
   ],
   "source": [
    "spark"
   ]
  },
  {
   "cell_type": "markdown",
   "id": "f486e199",
   "metadata": {
    "tags": []
   },
   "source": [
    "## UDF"
   ]
  },
  {
   "cell_type": "code",
   "execution_count": 34,
   "id": "d49cd137-c48f-4901-a0af-8b4628e0b8d4",
   "metadata": {
    "tags": []
   },
   "outputs": [],
   "source": [
    "from pyspark.sql.functions import col, udf, pandas_udf\n",
    "from pyspark.sql.types import IntegerType\n",
    "\n",
    "# Create a sample dataframe\n",
    "df = spark.createDataFrame([(1, \"apple\"), (2, \"banana\"), (3, \"orange\"), \n",
    "                            (4, \"apple\"), (5, \"banana\"), (6, \"orange\"),\n",
    "                            (7, \"apple\"), (8, \"banana\"), (9, \"orange\"),\n",
    "                            (10, \"apple\")], [\"id\", \"fruit\"])"
   ]
  },
  {
   "cell_type": "code",
   "execution_count": 7,
   "id": "08f54db5-1de8-45d0-b25c-569ab400ad52",
   "metadata": {
    "tags": []
   },
   "outputs": [
    {
     "name": "stdout",
     "output_type": "stream",
     "text": [
      "+---+------+------+\n",
      "| id| fruit|length|\n",
      "+---+------+------+\n",
      "|  1| apple|     5|\n",
      "|  2|banana|     6|\n",
      "|  3|orange|     6|\n",
      "|  4| apple|     5|\n",
      "|  5|banana|     6|\n",
      "|  6|orange|     6|\n",
      "|  7| apple|     5|\n",
      "|  8|banana|     6|\n",
      "|  9|orange|     6|\n",
      "| 10| apple|     5|\n",
      "+---+------+------+\n",
      "\n"
     ]
    }
   ],
   "source": [
    "# Define the UDF logic\n",
    "def string_length(s):\n",
    "    return len(s)\n",
    "\n",
    "# Define the Python UDF\n",
    "string_length_udf = udf(string_length, IntegerType())\n",
    "\n",
    "# Apply the Python UDF and display the result\n",
    "df1 = df.withColumn(\"length\", string_length_udf(col(\"fruit\")))\n",
    "df1.show()"
   ]
  },
  {
   "cell_type": "code",
   "execution_count": 8,
   "id": "007cc03d-d008-421f-a75c-bfcb2cc810e6",
   "metadata": {
    "tags": []
   },
   "outputs": [
    {
     "name": "stdout",
     "output_type": "stream",
     "text": [
      "+---+------+------+\n",
      "| id| fruit|length|\n",
      "+---+------+------+\n",
      "|  1| apple|     5|\n",
      "|  2|banana|     6|\n",
      "|  3|orange|     6|\n",
      "|  4| apple|     5|\n",
      "|  5|banana|     6|\n",
      "|  6|orange|     6|\n",
      "|  7| apple|     5|\n",
      "|  8|banana|     6|\n",
      "|  9|orange|     6|\n",
      "| 10| apple|     5|\n",
      "+---+------+------+\n",
      "\n"
     ]
    }
   ],
   "source": [
    "import pandas as pd\n",
    "\n",
    "# Define the Pandas UDF\n",
    "@pandas_udf(IntegerType())\n",
    "def string_length_pandas_udf(s: pd.Series) -> pd.Series:\n",
    "    return s.str.len()\n",
    "    \n",
    "# Apply the Pandas UDF and display the result\n",
    "df2 = df.withColumn(\"length\", string_length_pandas_udf(col(\"fruit\")))\n",
    "df2.show()"
   ]
  },
  {
   "cell_type": "markdown",
   "id": "1fc1a3c4",
   "metadata": {
    "tags": []
   },
   "source": [
    "## Join"
   ]
  },
  {
   "cell_type": "code",
   "execution_count": 6,
   "id": "0ba8408e",
   "metadata": {
    "tags": []
   },
   "outputs": [],
   "source": [
    "spark.conf.set(\"spark.sql.adaptive.enabled\", \"false\")"
   ]
  },
  {
   "cell_type": "code",
   "execution_count": 7,
   "id": "5debe3b7",
   "metadata": {
    "tags": []
   },
   "outputs": [],
   "source": [
    "# define schema for purchases dataset\n",
    "purchases_schema = \"order_id int, customer_id int, product_id int, quantity int, price float\"\n",
    "\n",
    "# create purchases dataframe\n",
    "purchases_data = [\n",
    "    (101, 1, 1, 2, 19.99),\n",
    "    (102, 2, 2, 1, 9.99),\n",
    "    (103, 3, 3, 1, 15.99),\n",
    "    (104, 1, 4, 1, 5.99),\n",
    "    (105, 2, 5, 3, 12.99),\n",
    "    (106, 3, 6, 2, 9.99),\n",
    "    (107, 4, 7, 1, 11.99),\n",
    "    (108, 1, 8, 2, 14.99),\n",
    "    (109, 2, 9, 1, 9.99),\n",
    "    (110, 3, 10, 1, 19.99)\n",
    "]\n",
    "purchases_df = spark.createDataFrame(purchases_data, schema=purchases_schema)\n",
    "\n",
    "# define schema for customers dataset\n",
    "customers_schema = \"customer_id int, name string, email string\"\n",
    "\n",
    "# create customers dataframe\n",
    "customers_data = [\n",
    "    (1, \"John Doe\", \"johndoe@example.com\"),\n",
    "    (2, \"Jane Smith\", \"janesmith@example.com\"),\n",
    "    (3, \"Bob Johnson\", \"bobjohnson@example.com\"),\n",
    "    (4, \"Sue Lee\", \"suelee@example.com\")\n",
    "]\n",
    "customers_df = spark.createDataFrame(customers_data, schema=customers_schema)\n",
    "\n",
    "# define schema for products dataset\n",
    "products_schema = \"product_id int, name string, price float\"\n",
    "\n",
    "# create products dataframe\n",
    "products_data = [\n",
    "    (1, \"Product A\", 19.99),\n",
    "    (2, \"Product B\", 9.99),\n",
    "    (3, \"Product C\", 15.99),\n",
    "    (4, \"Product D\", 5.99),\n",
    "    (5, \"Product E\", 12.99),\n",
    "    (6, \"Product F\", 9.99),\n",
    "    (7, \"Product G\", 11.99),\n",
    "    (8, \"Product H\", 14.99),\n",
    "    (9, \"Product I\", 9.99),\n",
    "    (10, \"Product J\", 19.99)\n",
    "]\n",
    "products_df = spark.createDataFrame(products_data, schema=products_schema)"
   ]
  },
  {
   "cell_type": "code",
   "execution_count": 8,
   "id": "ee4acd54",
   "metadata": {
    "tags": []
   },
   "outputs": [],
   "source": [
    "\n",
    "# set join preferences\n",
    "spark.conf.set(\"spark.sql.join.preferSortMergeJoin\", \"true\")\n",
    "spark.conf.set(\"spark.sql.autoBroadcastJoinThreshold\", \"-1\")\n",
    "\n",
    "# perform sort merge join\n",
    "merged_df = (\n",
    "    purchases_df\n",
    "    .join(customers_df, \"customer_id\")\n",
    "    .join(products_df, \"product_id\")\n",
    ")"
   ]
  },
  {
   "cell_type": "code",
   "execution_count": 9,
   "id": "4843cfad-0947-4533-b79e-11c933490907",
   "metadata": {
    "tags": []
   },
   "outputs": [
    {
     "name": "stdout",
     "output_type": "stream",
     "text": [
      "+----------+-----------+--------+--------+-----+-----------+--------------------+---------+-----+\n",
      "|product_id|customer_id|order_id|quantity|price|       name|               email|     name|price|\n",
      "+----------+-----------+--------+--------+-----+-----------+--------------------+---------+-----+\n",
      "|         1|          1|     101|       2|19.99|   John Doe| johndoe@example.com|Product A|19.99|\n",
      "|         6|          3|     106|       2| 9.99|Bob Johnson|bobjohnson@exampl...|Product F| 9.99|\n",
      "|         3|          3|     103|       1|15.99|Bob Johnson|bobjohnson@exampl...|Product C|15.99|\n",
      "|         5|          2|     105|       3|12.99| Jane Smith|janesmith@example...|Product E|12.99|\n",
      "|         9|          2|     109|       1| 9.99| Jane Smith|janesmith@example...|Product I| 9.99|\n",
      "|         4|          1|     104|       1| 5.99|   John Doe| johndoe@example.com|Product D| 5.99|\n",
      "|         8|          1|     108|       2|14.99|   John Doe| johndoe@example.com|Product H|14.99|\n",
      "|         7|          4|     107|       1|11.99|    Sue Lee|  suelee@example.com|Product G|11.99|\n",
      "|        10|          3|     110|       1|19.99|Bob Johnson|bobjohnson@exampl...|Product J|19.99|\n",
      "|         2|          2|     102|       1| 9.99| Jane Smith|janesmith@example...|Product B| 9.99|\n",
      "+----------+-----------+--------+--------+-----+-----------+--------------------+---------+-----+\n",
      "\n"
     ]
    }
   ],
   "source": [
    "merged_df.show()"
   ]
  },
  {
   "cell_type": "code",
   "execution_count": 15,
   "id": "4da946f4-663f-42a6-a0f6-5d59e8ba6666",
   "metadata": {
    "tags": []
   },
   "outputs": [
    {
     "name": "stdout",
     "output_type": "stream",
     "text": [
      "+----------+-----------+--------+--------+-----+-----------+--------------------+---------+-----+\n",
      "|product_id|customer_id|order_id|quantity|price|       name|               email|     name|price|\n",
      "+----------+-----------+--------+--------+-----+-----------+--------------------+---------+-----+\n",
      "|         1|          1|     101|       2|19.99|   John Doe| johndoe@example.com|Product A|19.99|\n",
      "|         6|          3|     106|       2| 9.99|Bob Johnson|bobjohnson@exampl...|Product F| 9.99|\n",
      "|         3|          3|     103|       1|15.99|Bob Johnson|bobjohnson@exampl...|Product C|15.99|\n",
      "|         5|          2|     105|       3|12.99| Jane Smith|janesmith@example...|Product E|12.99|\n",
      "|         9|          2|     109|       1| 9.99| Jane Smith|janesmith@example...|Product I| 9.99|\n",
      "|         4|          1|     104|       1| 5.99|   John Doe| johndoe@example.com|Product D| 5.99|\n",
      "|         8|          1|     108|       2|14.99|   John Doe| johndoe@example.com|Product H|14.99|\n",
      "|         7|          4|     107|       1|11.99|    Sue Lee|  suelee@example.com|Product G|11.99|\n",
      "|        10|          3|     110|       1|19.99|Bob Johnson|bobjohnson@exampl...|Product J|19.99|\n",
      "|         2|          2|     102|       1| 9.99| Jane Smith|janesmith@example...|Product B| 9.99|\n",
      "+----------+-----------+--------+--------+-----+-----------+--------------------+---------+-----+\n",
      "\n"
     ]
    }
   ],
   "source": [
    "merged_df.show()"
   ]
  },
  {
   "cell_type": "code",
   "execution_count": 11,
   "id": "7a3fc643",
   "metadata": {
    "tags": []
   },
   "outputs": [
    {
     "name": "stdout",
     "output_type": "stream",
     "text": [
      "+----------+-----------+--------+--------+-----+-----------+--------------------+---------+-----+\n",
      "|product_id|customer_id|order_id|quantity|price|       name|               email|     name|price|\n",
      "+----------+-----------+--------+--------+-----+-----------+--------------------+---------+-----+\n",
      "|         1|          1|     101|       2|19.99|   John Doe| johndoe@example.com|Product A|19.99|\n",
      "|         2|          2|     102|       1| 9.99| Jane Smith|janesmith@example...|Product B| 9.99|\n",
      "|         3|          3|     103|       1|15.99|Bob Johnson|bobjohnson@exampl...|Product C|15.99|\n",
      "|         4|          1|     104|       1| 5.99|   John Doe| johndoe@example.com|Product D| 5.99|\n",
      "|         5|          2|     105|       3|12.99| Jane Smith|janesmith@example...|Product E|12.99|\n",
      "+----------+-----------+--------+--------+-----+-----------+--------------------+---------+-----+\n",
      "only showing top 5 rows\n",
      "\n"
     ]
    }
   ],
   "source": [
    "from pyspark.sql.functions import broadcast\n",
    "\n",
    "# set join preferences\n",
    "spark.conf.set(\"spark.sql.join.preferSortMergeJoin\", \"false\")\n",
    "spark.conf.set(\"spark.sql.autoBroadcastJoinThreshold\", \"1000000000\")\n",
    "\n",
    "# perform broadcast hash join\n",
    "broadcast_df = purchases_df.join(broadcast(customers_df), \"customer_id\").join(broadcast(products_df), \"product_id\")\n",
    "broadcast_df.show(5)"
   ]
  },
  {
   "cell_type": "code",
   "execution_count": 12,
   "id": "ee11a5e4-5b22-4869-9350-fa86a4dc73e5",
   "metadata": {
    "tags": []
   },
   "outputs": [
    {
     "name": "stdout",
     "output_type": "stream",
     "text": [
      "+----------+-----------+--------+--------+-----+--------+-------------------+---------+-----+\n",
      "|product_id|customer_id|order_id|quantity|price|    name|              email|     name|price|\n",
      "+----------+-----------+--------+--------+-----+--------+-------------------+---------+-----+\n",
      "|         1|          1|     101|       2|19.99|John Doe|johndoe@example.com|Product A|19.99|\n",
      "+----------+-----------+--------+--------+-----+--------+-------------------+---------+-----+\n",
      "only showing top 1 row\n",
      "\n"
     ]
    }
   ],
   "source": [
    "broadcast_df.show(1)"
   ]
  },
  {
   "cell_type": "markdown",
   "id": "1c4e7b6f",
   "metadata": {
    "jp-MarkdownHeadingCollapsed": true,
    "tags": []
   },
   "source": [
    "## Cache & Persist"
   ]
  },
  {
   "cell_type": "code",
   "execution_count": 16,
   "id": "6d34ddc9",
   "metadata": {
    "tags": []
   },
   "outputs": [
    {
     "name": "stdout",
     "output_type": "stream",
     "text": [
      "+----------+-----------+--------+--------+-----+-----------+--------------------+---------+-----+\n",
      "|product_id|customer_id|order_id|quantity|price|       name|               email|     name|price|\n",
      "+----------+-----------+--------+--------+-----+-----------+--------------------+---------+-----+\n",
      "|         1|          1|     101|       2|19.99|   John Doe| johndoe@example.com|Product A|19.99|\n",
      "|         2|          2|     102|       1| 9.99| Jane Smith|janesmith@example...|Product B| 9.99|\n",
      "|         3|          3|     103|       1|15.99|Bob Johnson|bobjohnson@exampl...|Product C|15.99|\n",
      "|         4|          1|     104|       1| 5.99|   John Doe| johndoe@example.com|Product D| 5.99|\n",
      "|         5|          2|     105|       3|12.99| Jane Smith|janesmith@example...|Product E|12.99|\n",
      "|         6|          3|     106|       2| 9.99|Bob Johnson|bobjohnson@exampl...|Product F| 9.99|\n",
      "|         7|          4|     107|       1|11.99|    Sue Lee|  suelee@example.com|Product G|11.99|\n",
      "|         8|          1|     108|       2|14.99|   John Doe| johndoe@example.com|Product H|14.99|\n",
      "|         9|          2|     109|       1| 9.99| Jane Smith|janesmith@example...|Product I| 9.99|\n",
      "|        10|          3|     110|       1|19.99|Bob Johnson|bobjohnson@exampl...|Product J|19.99|\n",
      "+----------+-----------+--------+--------+-----+-----------+--------------------+---------+-----+\n",
      "\n"
     ]
    }
   ],
   "source": [
    "broadcast_df.show()"
   ]
  },
  {
   "cell_type": "code",
   "execution_count": 17,
   "id": "29762444",
   "metadata": {
    "tags": []
   },
   "outputs": [
    {
     "data": {
      "text/plain": [
       "DataFrame[product_id: int, customer_id: int, order_id: int, quantity: int, price: float, name: string, email: string, name: string, price: float]"
      ]
     },
     "execution_count": 17,
     "metadata": {},
     "output_type": "execute_result"
    }
   ],
   "source": [
    "# cache the purchases DataFrame\n",
    "# broadcast_df.cache()\n",
    "broadcast_df.unpersist()"
   ]
  },
  {
   "cell_type": "code",
   "execution_count": 18,
   "id": "c5362722",
   "metadata": {
    "tags": []
   },
   "outputs": [],
   "source": [
    "from pyspark.sql.functions import col\n",
    "\n",
    "# calculate the total purchase amount for each store using the cached DataFrame\n",
    "store_purchase_totals = (\n",
    "    purchases_df\n",
    "    .withColumn(\"total_price\",col(\"quantity\")*col(\"price\"))\n",
    "    .groupBy(\"customer_id\")\n",
    "    .agg({\"total_price\":\"sum\"}).alias(\"total_purchase_amount\")\n",
    ")"
   ]
  },
  {
   "cell_type": "code",
   "execution_count": 19,
   "id": "d393ce0b",
   "metadata": {
    "tags": []
   },
   "outputs": [
    {
     "data": {
      "text/plain": [
       "DataFrame[customer_id: int, sum(total_price): double]"
      ]
     },
     "execution_count": 19,
     "metadata": {},
     "output_type": "execute_result"
    }
   ],
   "source": [
    "# persist the store_purchase_totals DataFrame to disk\n",
    "store_purchase_totals.persist(pyspark.StorageLevel.DISK_ONLY)\n",
    "store_purchase_totals.persist(pyspark.StorageLevel.MEMORY_ONLY)\n"
   ]
  },
  {
   "cell_type": "code",
   "execution_count": 20,
   "id": "3cd6c04e",
   "metadata": {
    "tags": []
   },
   "outputs": [
    {
     "name": "stdout",
     "output_type": "stream",
     "text": [
      "+-----------+------------------+\n",
      "|customer_id|  sum(total_price)|\n",
      "+-----------+------------------+\n",
      "|          1| 75.94999885559082|\n",
      "|          3|55.959999084472656|\n",
      "|          4|11.989999771118164|\n",
      "|          2| 58.95000076293945|\n",
      "+-----------+------------------+\n",
      "\n"
     ]
    }
   ],
   "source": [
    "# print the results\n",
    "store_purchase_totals.show()"
   ]
  },
  {
   "cell_type": "code",
   "execution_count": 21,
   "id": "a61f1045-5d26-483c-b305-6afbbf81eda7",
   "metadata": {
    "tags": []
   },
   "outputs": [
    {
     "name": "stdout",
     "output_type": "stream",
     "text": [
      "+-----------+------------------+\n",
      "|customer_id|  sum(total_price)|\n",
      "+-----------+------------------+\n",
      "|          1| 75.94999885559082|\n",
      "|          3|55.959999084472656|\n",
      "|          4|11.989999771118164|\n",
      "|          2| 58.95000076293945|\n",
      "+-----------+------------------+\n",
      "\n"
     ]
    }
   ],
   "source": [
    "# print the results\n",
    "store_purchase_totals.show()"
   ]
  },
  {
   "cell_type": "code",
   "execution_count": 17,
   "id": "1a7311ae",
   "metadata": {
    "tags": []
   },
   "outputs": [
    {
     "data": {
      "text/plain": [
       "DataFrame[customer_id: int, sum(total_price): double]"
      ]
     },
     "execution_count": 17,
     "metadata": {},
     "output_type": "execute_result"
    }
   ],
   "source": [
    "# unpersist the store_purchase_totals DataFrame to free up memory\n",
    "store_purchase_totals.unpersist()"
   ]
  },
  {
   "cell_type": "markdown",
   "id": "32239315",
   "metadata": {},
   "source": [
    "Balik lagi ke collab"
   ]
  },
  {
   "cell_type": "markdown",
   "id": "07bb0765-642a-4bda-97ed-508cc1ae491a",
   "metadata": {
    "tags": []
   },
   "source": [
    "# JDBC"
   ]
  },
  {
   "cell_type": "code",
   "execution_count": 415,
   "id": "b9a81123-e2db-455a-a118-62ab7c9a9dd6",
   "metadata": {
    "tags": []
   },
   "outputs": [],
   "source": [
    "jdbc_url = f'jdbc:postgresql://{postgres_host}:{postgres_port}/{postgres_dw_db}'\n",
    "jdbc_properties = {\n",
    "    'user': postgres_user,\n",
    "    'password': postgres_password,\n",
    "    'driver': 'org.postgresql.Driver',\n",
    "    'stringtype': 'unspecified'\n",
    "}"
   ]
  },
  {
   "cell_type": "code",
   "execution_count": 416,
   "id": "75f7b87d-7135-4cde-875e-961fae293f21",
   "metadata": {
    "tags": []
   },
   "outputs": [],
   "source": [
    "retail_df = spark.read.jdbc(\n",
    "    jdbc_url,\n",
    "    'public.retail',\n",
    "    properties=jdbc_properties\n",
    ")"
   ]
  },
  {
   "cell_type": "code",
   "execution_count": 417,
   "id": "58e2aafe-7bd5-42e4-81dd-38122bc3cf1c",
   "metadata": {
    "tags": []
   },
   "outputs": [
    {
     "name": "stdout",
     "output_type": "stream",
     "text": [
      "+---------+---------+--------------------+--------+-----------+---------+----------+--------------+\n",
      "|invoiceno|stockcode|         description|quantity|invoicedate|unitprice|customerid|       country|\n",
      "+---------+---------+--------------------+--------+-----------+---------+----------+--------------+\n",
      "|   571408|    22972|CHILDREN'S SPACEB...|       1| 2011-10-17|     1.65|     15012|United Kingdom|\n",
      "|   571408|    22970|LONDON BUS COFFEE...|       1| 2011-10-17|     2.55|     15012|United Kingdom|\n",
      "|   571408|    22748|POPPY'S PLAYHOUSE...|       1| 2011-10-17|      2.1|     15012|United Kingdom|\n",
      "|   571408|    23199|    JUMBO BAG APPLES|       1| 2011-10-17|     2.08|     15012|United Kingdom|\n",
      "|   571408|   51014C|FEATHER PEN,COAL ...|      12| 2011-10-17|     0.39|     15012|United Kingdom|\n",
      "+---------+---------+--------------------+--------+-----------+---------+----------+--------------+\n",
      "only showing top 5 rows\n",
      "\n"
     ]
    }
   ],
   "source": [
    "retail_df.show(5)"
   ]
  },
  {
   "cell_type": "code",
   "execution_count": 418,
   "id": "33dbac9b-4c95-4cd5-a7de-e4beb92db09f",
   "metadata": {
    "tags": []
   },
   "outputs": [
    {
     "name": "stdout",
     "output_type": "stream",
     "text": [
      "root\n",
      " |-- invoiceno: string (nullable = true)\n",
      " |-- stockcode: string (nullable = true)\n",
      " |-- description: string (nullable = true)\n",
      " |-- quantity: integer (nullable = true)\n",
      " |-- invoicedate: date (nullable = true)\n",
      " |-- unitprice: double (nullable = true)\n",
      " |-- customerid: string (nullable = true)\n",
      " |-- country: string (nullable = true)\n",
      "\n"
     ]
    }
   ],
   "source": [
    "retail_df.printSchema()"
   ]
  },
  {
   "cell_type": "code",
   "execution_count": 419,
   "id": "1885256a-1ecd-4925-beb3-510027b55865",
   "metadata": {
    "tags": []
   },
   "outputs": [
    {
     "data": {
      "text/html": [
       "<div>\n",
       "<style scoped>\n",
       "    .dataframe tbody tr th:only-of-type {\n",
       "        vertical-align: middle;\n",
       "    }\n",
       "\n",
       "    .dataframe tbody tr th {\n",
       "        vertical-align: top;\n",
       "    }\n",
       "\n",
       "    .dataframe thead th {\n",
       "        text-align: right;\n",
       "    }\n",
       "</style>\n",
       "<table border=\"1\" class=\"dataframe\">\n",
       "  <thead>\n",
       "    <tr style=\"text-align: right;\">\n",
       "      <th></th>\n",
       "      <th>summary</th>\n",
       "      <th>invoiceno</th>\n",
       "      <th>stockcode</th>\n",
       "      <th>description</th>\n",
       "      <th>quantity</th>\n",
       "      <th>unitprice</th>\n",
       "      <th>customerid</th>\n",
       "      <th>country</th>\n",
       "    </tr>\n",
       "  </thead>\n",
       "  <tbody>\n",
       "    <tr>\n",
       "      <th>0</th>\n",
       "      <td>count</td>\n",
       "      <td>541909</td>\n",
       "      <td>541909</td>\n",
       "      <td>540455</td>\n",
       "      <td>541909</td>\n",
       "      <td>541909</td>\n",
       "      <td>406829</td>\n",
       "      <td>541909</td>\n",
       "    </tr>\n",
       "    <tr>\n",
       "      <th>1</th>\n",
       "      <td>mean</td>\n",
       "      <td>559965.752026781</td>\n",
       "      <td>27623.240210938104</td>\n",
       "      <td>20713.0</td>\n",
       "      <td>9.55224954743324</td>\n",
       "      <td>4.611113626085855</td>\n",
       "      <td>15287.690570239585</td>\n",
       "      <td>None</td>\n",
       "    </tr>\n",
       "    <tr>\n",
       "      <th>2</th>\n",
       "      <td>stddev</td>\n",
       "      <td>13428.417280789448</td>\n",
       "      <td>16799.737628427607</td>\n",
       "      <td>None</td>\n",
       "      <td>218.08115785023676</td>\n",
       "      <td>96.75985306117953</td>\n",
       "      <td>1713.6003033216114</td>\n",
       "      <td>None</td>\n",
       "    </tr>\n",
       "    <tr>\n",
       "      <th>3</th>\n",
       "      <td>min</td>\n",
       "      <td>536365</td>\n",
       "      <td>10002</td>\n",
       "      <td>4 PURPLE FLOCK DINNER CANDLES</td>\n",
       "      <td>-80995</td>\n",
       "      <td>-11062.06</td>\n",
       "      <td>12346</td>\n",
       "      <td>Australia</td>\n",
       "    </tr>\n",
       "    <tr>\n",
       "      <th>4</th>\n",
       "      <td>25%</td>\n",
       "      <td>547906.0</td>\n",
       "      <td>21929.0</td>\n",
       "      <td>20713.0</td>\n",
       "      <td>1</td>\n",
       "      <td>1.25</td>\n",
       "      <td>13953.0</td>\n",
       "      <td>None</td>\n",
       "    </tr>\n",
       "    <tr>\n",
       "      <th>5</th>\n",
       "      <td>50%</td>\n",
       "      <td>560688.0</td>\n",
       "      <td>22569.0</td>\n",
       "      <td>20713.0</td>\n",
       "      <td>3</td>\n",
       "      <td>2.08</td>\n",
       "      <td>15152.0</td>\n",
       "      <td>None</td>\n",
       "    </tr>\n",
       "    <tr>\n",
       "      <th>6</th>\n",
       "      <td>75%</td>\n",
       "      <td>571841.0</td>\n",
       "      <td>23165.0</td>\n",
       "      <td>20713.0</td>\n",
       "      <td>10</td>\n",
       "      <td>4.13</td>\n",
       "      <td>16791.0</td>\n",
       "      <td>None</td>\n",
       "    </tr>\n",
       "    <tr>\n",
       "      <th>7</th>\n",
       "      <td>max</td>\n",
       "      <td>C581569</td>\n",
       "      <td>m</td>\n",
       "      <td>wrongly sold sets</td>\n",
       "      <td>80995</td>\n",
       "      <td>38970.0</td>\n",
       "      <td>18287</td>\n",
       "      <td>Unspecified</td>\n",
       "    </tr>\n",
       "  </tbody>\n",
       "</table>\n",
       "</div>"
      ],
      "text/plain": [
       "  summary           invoiceno           stockcode   \n",
       "0   count              541909              541909  \\\n",
       "1    mean    559965.752026781  27623.240210938104   \n",
       "2  stddev  13428.417280789448  16799.737628427607   \n",
       "3     min              536365               10002   \n",
       "4     25%            547906.0             21929.0   \n",
       "5     50%            560688.0             22569.0   \n",
       "6     75%            571841.0             23165.0   \n",
       "7     max             C581569                   m   \n",
       "\n",
       "                      description            quantity          unitprice   \n",
       "0                          540455              541909             541909  \\\n",
       "1                         20713.0    9.55224954743324  4.611113626085855   \n",
       "2                            None  218.08115785023676  96.75985306117953   \n",
       "3   4 PURPLE FLOCK DINNER CANDLES              -80995          -11062.06   \n",
       "4                         20713.0                   1               1.25   \n",
       "5                         20713.0                   3               2.08   \n",
       "6                         20713.0                  10               4.13   \n",
       "7               wrongly sold sets               80995            38970.0   \n",
       "\n",
       "           customerid      country  \n",
       "0              406829       541909  \n",
       "1  15287.690570239585         None  \n",
       "2  1713.6003033216114         None  \n",
       "3               12346    Australia  \n",
       "4             13953.0         None  \n",
       "5             15152.0         None  \n",
       "6             16791.0         None  \n",
       "7               18287  Unspecified  "
      ]
     },
     "execution_count": 419,
     "metadata": {},
     "output_type": "execute_result"
    }
   ],
   "source": [
    "retail_df.summary().toPandas()"
   ]
  },
  {
   "cell_type": "code",
   "execution_count": 420,
   "id": "888c53b6-bdc9-4141-a2d9-f50bc651ef19",
   "metadata": {
    "tags": []
   },
   "outputs": [],
   "source": [
    "retail_df = retail_df.withColumn('trxvalue', F.round(F.col('unitprice')*F.col('quantity'),2))"
   ]
  },
  {
   "cell_type": "code",
   "execution_count": 421,
   "id": "955783a9-869f-4930-b0aa-b345b31ac79e",
   "metadata": {
    "tags": []
   },
   "outputs": [],
   "source": [
    "retail_df.createOrReplaceTempView('retail')"
   ]
  },
  {
   "cell_type": "code",
   "execution_count": 422,
   "id": "ca4ec0c0-d976-4297-9393-7ff33ec0b0f1",
   "metadata": {
    "tags": []
   },
   "outputs": [],
   "source": [
    "# I don't want to speculate about the data and making transformation based on assumptions only.\n",
    "# Thus, for safety measures, I will exclude data based on outliers of quantity and unitprice.\n",
    "# Also, excluding NULL rows on customerid, invoiceno, stockcode."
   ]
  },
  {
   "cell_type": "code",
   "execution_count": 423,
   "id": "32c2beb7-1d6e-448e-9ae8-b966419cbc79",
   "metadata": {
    "tags": []
   },
   "outputs": [],
   "source": [
    "# unitprice\n",
    "retail_df = spark.sql('''\n",
    "    WITH \n",
    "    q1 AS (\n",
    "        SELECT \n",
    "        MAX(unitprice) AS quartile1_break\n",
    "        FROM ( \n",
    "            SELECT *,\n",
    "            NTILE(4) OVER (ORDER BY unitprice) AS unitprice_quartile\n",
    "            FROM retail ) AS quartiles\n",
    "        WHERE unitprice_quartile IN (1)\n",
    "        GROUP BY unitprice_quartile\n",
    "    ),\n",
    "    q3 AS (\n",
    "        SELECT \n",
    "        MAX(unitprice) AS quartile3_break\n",
    "        FROM ( \n",
    "            SELECT *,\n",
    "            NTILE(4) OVER (ORDER BY unitprice) AS unitprice_quartile\n",
    "            FROM retail ) AS quartiles\n",
    "        WHERE unitprice_quartile IN (3)\n",
    "        GROUP BY unitprice_quartile\n",
    "    ),\n",
    "    iqr AS (\n",
    "        SELECT *, q3.quartile3_break - q1.quartile1_break AS IQR\n",
    "        FROM q1, q3\n",
    "    )\n",
    "    SELECT \n",
    "    retail.* \n",
    "    FROM retail, iqr\n",
    "    WHERE unitprice BETWEEN iqr.quartile1_break-1.5*iqr.IQR AND iqr.quartile3_break+1.5*iqr.IQR\n",
    "    AND unitprice != 0\n",
    "''')"
   ]
  },
  {
   "cell_type": "code",
   "execution_count": 424,
   "id": "369f6e9e-a018-4d6a-ad6c-1180d9c7ab2c",
   "metadata": {
    "tags": []
   },
   "outputs": [],
   "source": [
    "retail_df.createOrReplaceTempView('retail')"
   ]
  },
  {
   "cell_type": "code",
   "execution_count": 425,
   "id": "b0487a9d-16c8-4d1e-813b-765223965662",
   "metadata": {
    "tags": []
   },
   "outputs": [],
   "source": [
    "# quantity\n",
    "retail_df = spark.sql('''\n",
    "    WITH \n",
    "    q1 AS (\n",
    "        SELECT \n",
    "        MAX(quantity) AS quartile1_break\n",
    "        FROM ( \n",
    "            SELECT *,\n",
    "            NTILE(4) OVER (ORDER BY quantity) AS quantity_quartile\n",
    "            FROM retail ) AS quartiles\n",
    "        WHERE quantity_quartile IN (1)\n",
    "        GROUP BY quantity_quartile\n",
    "    ),\n",
    "    q3 AS (\n",
    "        SELECT \n",
    "        MAX(quantity) AS quartile3_break\n",
    "        FROM ( \n",
    "            SELECT *,\n",
    "            NTILE(4) OVER (ORDER BY quantity) AS quantity_quartile\n",
    "            FROM retail ) AS quartiles\n",
    "        WHERE quantity_quartile IN (3)\n",
    "        GROUP BY quantity_quartile\n",
    "    ),\n",
    "    iqr AS (\n",
    "        SELECT *, q3.quartile3_break - q1.quartile1_break AS IQR\n",
    "        FROM q1, q3\n",
    "    )\n",
    "    SELECT \n",
    "    retail.* \n",
    "    FROM retail, iqr\n",
    "    WHERE quantity BETWEEN iqr.quartile1_break-1.5*iqr.IQR AND iqr.quartile3_break+1.5*iqr.IQR\n",
    "    AND quantity > 0\n",
    "''')"
   ]
  },
  {
   "cell_type": "code",
   "execution_count": 426,
   "id": "245b1ae6-85d1-4d69-90ea-e36a6789e721",
   "metadata": {
    "tags": []
   },
   "outputs": [
    {
     "data": {
      "text/html": [
       "<div>\n",
       "<style scoped>\n",
       "    .dataframe tbody tr th:only-of-type {\n",
       "        vertical-align: middle;\n",
       "    }\n",
       "\n",
       "    .dataframe tbody tr th {\n",
       "        vertical-align: top;\n",
       "    }\n",
       "\n",
       "    .dataframe thead th {\n",
       "        text-align: right;\n",
       "    }\n",
       "</style>\n",
       "<table border=\"1\" class=\"dataframe\">\n",
       "  <thead>\n",
       "    <tr style=\"text-align: right;\">\n",
       "      <th></th>\n",
       "      <th>summary</th>\n",
       "      <th>invoiceno</th>\n",
       "      <th>stockcode</th>\n",
       "      <th>description</th>\n",
       "      <th>quantity</th>\n",
       "      <th>unitprice</th>\n",
       "      <th>customerid</th>\n",
       "      <th>country</th>\n",
       "      <th>trxvalue</th>\n",
       "    </tr>\n",
       "  </thead>\n",
       "  <tbody>\n",
       "    <tr>\n",
       "      <th>0</th>\n",
       "      <td>count</td>\n",
       "      <td>349841</td>\n",
       "      <td>349841</td>\n",
       "      <td>349841</td>\n",
       "      <td>349841</td>\n",
       "      <td>349841</td>\n",
       "      <td>349841</td>\n",
       "      <td>349841</td>\n",
       "      <td>349841</td>\n",
       "    </tr>\n",
       "    <tr>\n",
       "      <th>1</th>\n",
       "      <td>mean</td>\n",
       "      <td>560771.0449632833</td>\n",
       "      <td>27297.921951718177</td>\n",
       "      <td>None</td>\n",
       "      <td>7.322272117904991</td>\n",
       "      <td>2.3854106694163124</td>\n",
       "      <td>15323.480824145827</td>\n",
       "      <td>None</td>\n",
       "      <td>13.050177423459479</td>\n",
       "    </tr>\n",
       "    <tr>\n",
       "      <th>2</th>\n",
       "      <td>stddev</td>\n",
       "      <td>13128.446706405399</td>\n",
       "      <td>16174.389084558114</td>\n",
       "      <td>None</td>\n",
       "      <td>6.74119462603656</td>\n",
       "      <td>1.8450473165319192</td>\n",
       "      <td>1708.7909104390283</td>\n",
       "      <td>None</td>\n",
       "      <td>13.647388647460371</td>\n",
       "    </tr>\n",
       "    <tr>\n",
       "      <th>3</th>\n",
       "      <td>min</td>\n",
       "      <td>536365</td>\n",
       "      <td>10002</td>\n",
       "      <td>4 PURPLE FLOCK DINNER CANDLES</td>\n",
       "      <td>1</td>\n",
       "      <td>0.001</td>\n",
       "      <td>12347</td>\n",
       "      <td>Australia</td>\n",
       "      <td>0.0</td>\n",
       "    </tr>\n",
       "    <tr>\n",
       "      <th>4</th>\n",
       "      <td>25%</td>\n",
       "      <td>549294.0</td>\n",
       "      <td>21933.0</td>\n",
       "      <td>None</td>\n",
       "      <td>2</td>\n",
       "      <td>1.25</td>\n",
       "      <td>13995.0</td>\n",
       "      <td>None</td>\n",
       "      <td>3.95</td>\n",
       "    </tr>\n",
       "    <tr>\n",
       "      <th>5</th>\n",
       "      <td>50%</td>\n",
       "      <td>562101.0</td>\n",
       "      <td>22601.0</td>\n",
       "      <td>None</td>\n",
       "      <td>5</td>\n",
       "      <td>1.69</td>\n",
       "      <td>15237.0</td>\n",
       "      <td>None</td>\n",
       "      <td>10.2</td>\n",
       "    </tr>\n",
       "    <tr>\n",
       "      <th>6</th>\n",
       "      <td>75%</td>\n",
       "      <td>572283.0</td>\n",
       "      <td>23194.0</td>\n",
       "      <td>None</td>\n",
       "      <td>12</td>\n",
       "      <td>2.95</td>\n",
       "      <td>16817.0</td>\n",
       "      <td>None</td>\n",
       "      <td>17.34</td>\n",
       "    </tr>\n",
       "    <tr>\n",
       "      <th>7</th>\n",
       "      <td>max</td>\n",
       "      <td>581587</td>\n",
       "      <td>POST</td>\n",
       "      <td>ZINC WIRE SWEETHEART LETTER TRAY</td>\n",
       "      <td>28</td>\n",
       "      <td>8.29</td>\n",
       "      <td>18287</td>\n",
       "      <td>Unspecified</td>\n",
       "      <td>214.2</td>\n",
       "    </tr>\n",
       "  </tbody>\n",
       "</table>\n",
       "</div>"
      ],
      "text/plain": [
       "  summary           invoiceno           stockcode   \n",
       "0   count              349841              349841  \\\n",
       "1    mean   560771.0449632833  27297.921951718177   \n",
       "2  stddev  13128.446706405399  16174.389084558114   \n",
       "3     min              536365               10002   \n",
       "4     25%            549294.0             21933.0   \n",
       "5     50%            562101.0             22601.0   \n",
       "6     75%            572283.0             23194.0   \n",
       "7     max              581587                POST   \n",
       "\n",
       "                        description           quantity           unitprice   \n",
       "0                            349841             349841              349841  \\\n",
       "1                              None  7.322272117904991  2.3854106694163124   \n",
       "2                              None   6.74119462603656  1.8450473165319192   \n",
       "3     4 PURPLE FLOCK DINNER CANDLES                  1               0.001   \n",
       "4                              None                  2                1.25   \n",
       "5                              None                  5                1.69   \n",
       "6                              None                 12                2.95   \n",
       "7  ZINC WIRE SWEETHEART LETTER TRAY                 28                8.29   \n",
       "\n",
       "           customerid      country            trxvalue  \n",
       "0              349841       349841              349841  \n",
       "1  15323.480824145827         None  13.050177423459479  \n",
       "2  1708.7909104390283         None  13.647388647460371  \n",
       "3               12347    Australia                 0.0  \n",
       "4             13995.0         None                3.95  \n",
       "5             15237.0         None                10.2  \n",
       "6             16817.0         None               17.34  \n",
       "7               18287  Unspecified               214.2  "
      ]
     },
     "execution_count": 426,
     "metadata": {},
     "output_type": "execute_result"
    }
   ],
   "source": [
    "retail_df = retail_df.na.drop(subset=['customerid','invoiceno','stockcode'])\n",
    "retail_df.summary().toPandas()"
   ]
  },
  {
   "cell_type": "code",
   "execution_count": 427,
   "id": "7cbeaf9d-18c8-4e0b-8a5d-2126632d264c",
   "metadata": {
    "tags": []
   },
   "outputs": [],
   "source": [
    "retail_df.createOrReplaceTempView('retail')"
   ]
  },
  {
   "cell_type": "code",
   "execution_count": 431,
   "id": "fd7f8c81-b83f-4c11-9659-8add2087aace",
   "metadata": {
    "tags": []
   },
   "outputs": [],
   "source": [
    "# Descriptive Analytics\n",
    "spark.sql('''\n",
    "    SELECT \n",
    "    DISTINCT(YEAR(invoicedate)) AS year,\n",
    "    COUNT(DISTINCT(MONTH(invoicedate))) AS n_month,\n",
    "    COUNT(DISTINCT(customerid)) AS total_users,\n",
    "    COUNT(DISTINCT(invoiceno)) AS total_transaction, \n",
    "    ROUND(SUM(trxvalue),2) AS total_transaction_value,\n",
    "    ROUND(SUM(trxvalue)/COUNT(DISTINCT(invoiceno)),2) AS value_per_transaction,\n",
    "    ROUND(SUM(trxvalue)/COUNT(DISTINCT(MONTH(invoicedate))),2) AS value_per_month\n",
    "    FROM retail\n",
    "    GROUP BY year\n",
    "''').write.jdbc(url=jdbc_url, table='public.descriptive', mode=\"overwrite\", properties=jdbc_properties)"
   ]
  },
  {
   "cell_type": "code",
   "execution_count": 432,
   "id": "2aa4635c-38d4-451f-abeb-1460ebe517c0",
   "metadata": {
    "tags": []
   },
   "outputs": [],
   "source": [
    "# Top 10 Countries with The Highest Transaction Value\n",
    "spark.sql('''\n",
    "    SELECT \n",
    "    country,\n",
    "    ROUND(SUM(trxvalue),2) AS total_transaction_value\n",
    "    FROM retail\n",
    "    GROUP BY country\n",
    "    ORDER BY total_transaction_value DESC\n",
    "    LIMIT 10\n",
    "''').write.jdbc(url=jdbc_url, table='public.top10countries', mode=\"overwrite\", properties=jdbc_properties)"
   ]
  },
  {
   "cell_type": "code",
   "execution_count": 433,
   "id": "3fef44d0-3588-494f-a6d0-99d6a5464854",
   "metadata": {
    "tags": []
   },
   "outputs": [],
   "source": [
    "# Top 10 Countries with Highest YoY % Incremental in Dec 2011\n",
    "spark.sql('''\n",
    "WITH \n",
    "data AS (\n",
    "    SELECT \n",
    "    DISTINCT(YEAR(invoicedate)) AS year,\n",
    "    MONTH(invoicedate) AS month,\n",
    "    country AS country,\n",
    "    ROUND(SUM(unitprice),2) AS total_transaction_value\n",
    "    FROM retail\n",
    "    GROUP BY country, year, month\n",
    "    HAVING month==12    \n",
    "    ORDER BY country, year\n",
    "    )\n",
    "\n",
    "SELECT\n",
    "    country,\n",
    "    ROUND(MAX(\n",
    "        CASE\n",
    "            WHEN prev_year_revenue IS NOT NULL\n",
    "            THEN (total_transaction_value - prev_year_revenue) * 100.0 / prev_year_revenue\n",
    "            ELSE NULL\n",
    "        END\n",
    "    ),2) AS YoY_percent_incremental\n",
    "FROM (\n",
    "    SELECT\n",
    "        country,\n",
    "        year,\n",
    "        total_transaction_value,\n",
    "        LAG(total_transaction_value) OVER (PARTITION BY country ORDER BY year) AS prev_year_revenue\n",
    "    FROM data\n",
    ") AS RevenueWithPrevious\n",
    "GROUP BY country\n",
    "HAVING YoY_percent_incremental > 0\n",
    "ORDER BY YoY_percent_incremental DESC\n",
    "LIMIT 10\n",
    "''').write.jdbc(url=jdbc_url, table='public.top10countries_incremental', mode=\"overwrite\", properties=jdbc_properties)"
   ]
  },
  {
   "cell_type": "code",
   "execution_count": 434,
   "id": "aecb61fe-c909-4c25-a5ea-843f534789d3",
   "metadata": {
    "tags": []
   },
   "outputs": [],
   "source": [
    "# Churn rate per quarter\n",
    "spark.sql('''\n",
    "WITH \n",
    "quarters AS (\n",
    "    SELECT DISTINCT\n",
    "        customerid,\n",
    "        CASE\n",
    "            WHEN EXTRACT(MONTH FROM invoicedate) BETWEEN 1 AND 3 THEN CONCAT(EXTRACT(YEAR FROM invoicedate), '-Q1')\n",
    "            WHEN EXTRACT(MONTH FROM invoicedate) BETWEEN 4 AND 6 THEN CONCAT(EXTRACT(YEAR FROM invoicedate), '-Q2')\n",
    "            WHEN EXTRACT(MONTH FROM invoicedate) BETWEEN 7 AND 9 THEN CONCAT(EXTRACT(YEAR FROM invoicedate), '-Q3')\n",
    "            ELSE CONCAT(EXTRACT(YEAR FROM invoicedate), '-Q4')\n",
    "        END AS quarter\n",
    "    FROM retail\n",
    "    ORDER BY customerid\n",
    "),\n",
    "userid AS (\n",
    "    SELECT DISTINCT \n",
    "        customerid\n",
    "    FROM retail\n",
    "),\n",
    "period AS (\n",
    "    SELECT DISTINCT\n",
    "        quarter\n",
    "    FROM Quarters\n",
    "),\n",
    "cross AS (\n",
    "    SELECT * FROM userid CROSS JOIN period\n",
    "),\n",
    "joined AS (\n",
    "    SELECT \n",
    "        c.customerid, \n",
    "        c.quarter AS sort_q, \n",
    "        q.quarter AS active_q \n",
    "    FROM cross c\n",
    "    LEFT JOIN quarters q ON c.customerid = q.customerid \n",
    "    AND c.quarter = q.quarter\n",
    "),\n",
    "record AS (\n",
    "    SELECT \n",
    "        *,\n",
    "        LEAD(active_q) OVER (PARTITION BY customerid ORDER BY sort_q) AS next_q\n",
    "    FROM joined\n",
    "),\n",
    "almost AS (\n",
    "    SELECT \n",
    "        customerid, sort_q, active_q, next_q \n",
    "    FROM record\n",
    "    WHERE active_q IS NOT NULL\n",
    "    ORDER BY customerid, active_q\n",
    "),\n",
    "active AS (\n",
    "    SELECT \n",
    "        sort_q, COUNT(DISTINCT(customerid)) AS active \n",
    "    FROM almost\n",
    "    WHERE active_q IS NOT NULL\n",
    "    GROUP BY sort_q\n",
    "    ORDER BY sort_q\n",
    "),\n",
    "churned AS (\n",
    "    SELECT\n",
    "        active_q, COUNT(DISTINCT(customerid)) AS churned\n",
    "    FROM almost\n",
    "    WHERE next_q IS NULL\n",
    "    GROUP BY active_q\n",
    "    ORDER BY active_q\n",
    ")\n",
    "SELECT\n",
    "    a.sort_q AS quarter,\n",
    "    COALESCE(c.churned, 0) AS churned_customers,\n",
    "    COALESCE(a.active, 0) AS total_active_customers,\n",
    "    CASE\n",
    "        WHEN COALESCE(a.active, 0) = 0 THEN 0\n",
    "        ELSE COALESCE(c.churned, 0) * 100.0 / COALESCE(a.active, 0)\n",
    "    END AS churn_rate\n",
    "FROM active a\n",
    "LEFT JOIN churned c\n",
    "ON a.sort_q = c.active_q\n",
    "ORDER BY quarter;\n",
    "''').write.jdbc(url=jdbc_url, table='public.churn_rate_quarterly', mode=\"overwrite\", properties=jdbc_properties)"
   ]
  },
  {
   "cell_type": "code",
   "execution_count": 27,
   "id": "02307c9f-e3ae-43b5-bb8e-aa6a8ca768bd",
   "metadata": {
    "tags": []
   },
   "outputs": [],
   "source": [
    "(\n",
    "    retail_df\n",
    "    .limit(10)\n",
    "    .write\n",
    "    .mode(\"append\")\n",
    "    .option(\"truncate\", \"true\")\n",
    "    .jdbc(\n",
    "        jdbc_url,\n",
    "        'public.sample_retail',\n",
    "        properties=jdbc_properties\n",
    "    )\n",
    ")"
   ]
  },
  {
   "cell_type": "code",
   "execution_count": 28,
   "id": "7de5aefb-ad88-4642-94fd-b58b825ae74c",
   "metadata": {
    "tags": []
   },
   "outputs": [
    {
     "name": "stdout",
     "output_type": "stream",
     "text": [
      "+---------+---------+--------------------+--------+-----------+---------+----------+--------------+\n",
      "|invoiceno|stockcode|         description|quantity|invoicedate|unitprice|customerid|       country|\n",
      "+---------+---------+--------------------+--------+-----------+---------+----------+--------------+\n",
      "|   536365|   85123A|WHITE HANGING HEA...|       6| 2010-12-01|     2.55|     17850|United Kingdom|\n",
      "|   536365|    71053| WHITE METAL LANTERN|       6| 2010-12-01|     3.39|     17850|United Kingdom|\n",
      "|   536365|   84406B|CREAM CUPID HEART...|       8| 2010-12-01|     2.75|     17850|United Kingdom|\n",
      "|   536365|   84029G|KNITTED UNION FLA...|       6| 2010-12-01|     3.39|     17850|United Kingdom|\n",
      "|   536365|   84029E|RED WOOLLY HOTTIE...|       6| 2010-12-01|     3.39|     17850|United Kingdom|\n",
      "|   536365|    22752|SET 7 BABUSHKA NE...|       2| 2010-12-01|     7.65|     17850|United Kingdom|\n",
      "|   536365|    21730|GLASS STAR FROSTE...|       6| 2010-12-01|     4.25|     17850|United Kingdom|\n",
      "|   536366|    22633|HAND WARMER UNION...|       6| 2010-12-01|     1.85|     17850|United Kingdom|\n",
      "|   536366|    22632|HAND WARMER RED P...|       6| 2010-12-01|     1.85|     17850|United Kingdom|\n",
      "|   536367|    84879|ASSORTED COLOUR B...|      32| 2010-12-01|     1.69|     13047|United Kingdom|\n",
      "+---------+---------+--------------------+--------+-----------+---------+----------+--------------+\n",
      "\n"
     ]
    }
   ],
   "source": [
    "(\n",
    "    spark\n",
    "    .read\n",
    "    .jdbc(\n",
    "        jdbc_url,\n",
    "        'public.sample_retail',\n",
    "        properties=jdbc_properties\n",
    "    )\n",
    "    .show()\n",
    ")"
   ]
  }
 ],
 "metadata": {
  "kernelspec": {
   "display_name": "Python 3 (ipykernel)",
   "language": "python",
   "name": "python3"
  },
  "language_info": {
   "codemirror_mode": {
    "name": "ipython",
    "version": 3
   },
   "file_extension": ".py",
   "mimetype": "text/x-python",
   "name": "python",
   "nbconvert_exporter": "python",
   "pygments_lexer": "ipython3",
   "version": "3.10.10"
  }
 },
 "nbformat": 4,
 "nbformat_minor": 5
}
